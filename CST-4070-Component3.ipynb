{
 "cells": [
  {
   "cell_type": "markdown",
   "id": "1ecb3d47",
   "metadata": {},
   "source": [
    "# 1. Problem Definition"
   ]
  },
  {
   "cell_type": "markdown",
   "id": "798f4e52",
   "metadata": {},
   "source": [
    "During the initial start of the vaccines (particularly 2020-2021), there had been many myths and doubts going on in people's minds about it's effectiveness. Due to this, they were hesitant in taking the vaccine. This thinking could be due to various reasons like age, health issues, political trust, etc. We will be looking at all these factors and divide our problem definitions into multiple questions as below :-\n",
    "\n",
    "1. Were people with certain diseases like diabetes say that the vaccine is ineffective ?\n",
    "2. Were people with certain political beliefs say that the vaccine is ineffective ?\n",
    "3. Were people that don't belive in the science behind it say that the vaccine is ineffective ?\n",
    "4. Were people who say that the vaccines are not safe are also saying that it is ineffective ?\n",
    "5. Could profession impact the thinking of vaccine effectiveness ?\n",
    "6. Does people who think that COVID-19 is not a dangerous threat also thinks that the vaccine is ineffective ?"
   ]
  },
  {
   "cell_type": "markdown",
   "id": "dc208234",
   "metadata": {},
   "source": [
    "# 2. Data description"
   ]
  },
  {
   "cell_type": "markdown",
   "id": "875f5c1b",
   "metadata": {},
   "source": [
    "We will be using two data sets to support our problem statements. Both the data are in tabular format (having rows or observations and columns or features). \n",
    "\n",
    "The first data set (owid-covid-data.csv) contains <i><b>67</b> features</i> and <i><b>256060</b> observations</i>."
   ]
  },
  {
   "cell_type": "code",
   "execution_count": 2,
   "id": "f70c650c",
   "metadata": {
    "scrolled": true
   },
   "outputs": [
    {
     "name": "stdout",
     "output_type": "stream",
     "text": [
      "(256060, 67)\n",
      "Index(['iso_code', 'continent', 'location', 'date', 'total_cases', 'new_cases',\n",
      "       'new_cases_smoothed', 'total_deaths', 'new_deaths',\n",
      "       'new_deaths_smoothed', 'total_cases_per_million',\n",
      "       'new_cases_per_million', 'new_cases_smoothed_per_million',\n",
      "       'total_deaths_per_million', 'new_deaths_per_million',\n",
      "       'new_deaths_smoothed_per_million', 'reproduction_rate', 'icu_patients',\n",
      "       'icu_patients_per_million', 'hosp_patients',\n",
      "       'hosp_patients_per_million', 'weekly_icu_admissions',\n",
      "       'weekly_icu_admissions_per_million', 'weekly_hosp_admissions',\n",
      "       'weekly_hosp_admissions_per_million', 'total_tests', 'new_tests',\n",
      "       'total_tests_per_thousand', 'new_tests_per_thousand',\n",
      "       'new_tests_smoothed', 'new_tests_smoothed_per_thousand',\n",
      "       'positive_rate', 'tests_per_case', 'tests_units', 'total_vaccinations',\n",
      "       'people_vaccinated', 'people_fully_vaccinated', 'total_boosters',\n",
      "       'new_vaccinations', 'new_vaccinations_smoothed',\n",
      "       'total_vaccinations_per_hundred', 'people_vaccinated_per_hundred',\n",
      "       'people_fully_vaccinated_per_hundred', 'total_boosters_per_hundred',\n",
      "       'new_vaccinations_smoothed_per_million',\n",
      "       'new_people_vaccinated_smoothed',\n",
      "       'new_people_vaccinated_smoothed_per_hundred', 'stringency_index',\n",
      "       'population_density', 'median_age', 'aged_65_older', 'aged_70_older',\n",
      "       'gdp_per_capita', 'extreme_poverty', 'cardiovasc_death_rate',\n",
      "       'diabetes_prevalence', 'female_smokers', 'male_smokers',\n",
      "       'handwashing_facilities', 'hospital_beds_per_thousand',\n",
      "       'life_expectancy', 'human_development_index', 'population',\n",
      "       'excess_mortality_cumulative_absolute', 'excess_mortality_cumulative',\n",
      "       'excess_mortality', 'excess_mortality_cumulative_per_million'],\n",
      "      dtype='object')\n"
     ]
    }
   ],
   "source": [
    "import pandas as pd\n",
    "\n",
    "data1 = pd.read_csv('owid-covid-data.csv')\n",
    "\n",
    "# print number of observations and features\n",
    "print(data1.shape)\n",
    "\n",
    "# print all the features\n",
    "print(data1.columns)"
   ]
  },
  {
   "cell_type": "markdown",
   "id": "acd07238",
   "metadata": {},
   "source": [
    "From the above data set, we will be looking only at <b>date and diabetes_prevalence</b> because these will support our first problem statement."
   ]
  },
  {
   "cell_type": "markdown",
   "id": "d829b3f6",
   "metadata": {},
   "source": [
    "The second data set (Raw Data_Vaccine hesitancy globally 2020-2021_upload.xlsx) contains <i><b>79</b> features</i> and <i><b>23135</b> observations</i>"
   ]
  },
  {
   "cell_type": "code",
   "execution_count": 3,
   "id": "f8b90644",
   "metadata": {},
   "outputs": [
    {
     "name": "stdout",
     "output_type": "stream",
     "text": [
      "Index(['Country', 'COVID-19 is a dangerous health threat.',\n",
      "       'COVID-19 can be prevented by vaccination.',\n",
      "       'The risks of COVID-19 disease are greater than the risks of the vaccine',\n",
      "       'The COVID-19 vaccines available to me are safe',\n",
      "       'I trust that my government is able to deliver the COVID-19 vaccine to everyone, everywhere in my country, equally.',\n",
      "       'I trust the science behind the COVID-19 vaccines.',\n",
      "       'Have you received at least one dose of a COVID-19 vaccine?',\n",
      "       'I will take the COVID-19 vaccine when it is available to me.',\n",
      "       'I will have my child get the COVID-19 vaccine when it is available for them.',\n",
      "       'I will take the COVID-19 vaccine if my employer recommends it.',\n",
      "       'I will take the COVID-19 vaccine if my doctor recommends it.',\n",
      "       'Employers should require that their employees take a COVID-19 vaccine.',\n",
      "       'The government should require people to take a COVID-19 vaccine.',\n",
      "       'Universities should require students to take a COVID-19 vaccine.',\n",
      "       'School children should be required to take a COVID-19 vaccine.',\n",
      "       'Proof of vaccination should be required to enter indoor activities like cinema auditoriums, concerts and sports arenas.',\n",
      "       'Proof of vaccination should be required for international travel.',\n",
      "       'Have you or anyone else in your household experienced a loss in income due to the COVID-19 pandemic?',\n",
      "       'Did you or someone in your family become ill with COVID-19?',\n",
      "       'Have you lost a family member to COVID-19 disease?',\n",
      "       'In the past week, how often have you felt nervous, anxious, or on edge?',\n",
      "       'In the past week, have you felt down, depressed, or hopeless?',\n",
      "       'Are you one of the following?',\n",
      "       'Do you trust that your central government will successfully address unexpected health threats to our nation, including COVID-19 pandemic?',\n",
      "       'Do you trust that your local government will successfully address unexpected health threats to our nation, including COVID-19 pandemic?',\n",
      "       'Generally speaking, would you say that most people can be trusted or that you need to be very careful in dealing with people?',\n",
      "       'What is your age?', 'Age Groups', 'What is your gender?',\n",
      "       'Educational Attainment', 'Brazil Edu', 'Canada Edu', 'China Edu',\n",
      "       'France Edu', 'Germany Edu', 'Ghana Edu', 'India Edu', 'Italy Edu',\n",
      "       'Kenya Edu', 'Mexico Edu', 'Peru Edu', 'Poland Edu', 'Russia Edu',\n",
      "       'South Africa Edu', 'Spain Edu', 'Sweden Edu', 'Turkey Edu', 'UK Edu',\n",
      "       'US Edu', 'Singapore Edu', 'South Korea Edu', 'Ecuador Edu',\n",
      "       'Nigeria Edu', 'What is your average monthly household income?',\n",
      "       'Ghana Regions', 'Brazil Regions', 'Canada Regions', 'China Regions',\n",
      "       'France Regions', 'Germany Regions', 'Italy Regions', 'Poland Regions',\n",
      "       'Spain Regions', 'Sweden Regions', 'UK Regions', 'US Regions',\n",
      "       'Peru Regions', 'India Regions', 'South Africa Regions',\n",
      "       'Mexico Regions', 'Russia regions', 'Kenya Regions', 'Turkey Regions',\n",
      "       'Singapore Regions', 'South Korea Regions', 'Ecuador Regions',\n",
      "       'Nigeria Regions', 'Raked Weight'],\n",
      "      dtype='object')\n",
      "(23135, 79)\n"
     ]
    }
   ],
   "source": [
    "data2 = pd.read_excel('Raw.Data_Vaccine.hesitancy.globally.2020-2021_upload.xlsx')\n",
    "\n",
    "print(data2.columns)\n",
    "\n",
    "print(data2.shape)"
   ]
  },
  {
   "cell_type": "markdown",
   "id": "e059efdb",
   "metadata": {},
   "source": [
    "For the sake of reading and clarity, we will rename the columns names in which we are interested in."
   ]
  },
  {
   "cell_type": "code",
   "execution_count": 4,
   "id": "02e6a717",
   "metadata": {},
   "outputs": [
    {
     "data": {
      "text/plain": [
       "Index(['Country', 'health_threat', 'effective_vaccine',\n",
       "       'The risks of COVID-19 disease are greater than the risks of the vaccine',\n",
       "       'safe_vaccine', 'trust_on_government', 'trust_on_science',\n",
       "       'Have you received at least one dose of a COVID-19 vaccine?',\n",
       "       'I will take the COVID-19 vaccine when it is available to me.',\n",
       "       'I will have my child get the COVID-19 vaccine when it is available for them.',\n",
       "       'I will take the COVID-19 vaccine if my employer recommends it.',\n",
       "       'I will take the COVID-19 vaccine if my doctor recommends it.',\n",
       "       'Employers should require that their employees take a COVID-19 vaccine.',\n",
       "       'The government should require people to take a COVID-19 vaccine.',\n",
       "       'Universities should require students to take a COVID-19 vaccine.',\n",
       "       'School children should be required to take a COVID-19 vaccine.',\n",
       "       'Proof of vaccination should be required to enter indoor activities like cinema auditoriums, concerts and sports arenas.',\n",
       "       'Proof of vaccination should be required for international travel.',\n",
       "       'Have you or anyone else in your household experienced a loss in income due to the COVID-19 pandemic?',\n",
       "       'Did you or someone in your family become ill with COVID-19?',\n",
       "       'Have you lost a family member to COVID-19 disease?',\n",
       "       'In the past week, how often have you felt nervous, anxious, or on edge?',\n",
       "       'In the past week, have you felt down, depressed, or hopeless?',\n",
       "       'Profession',\n",
       "       'Do you trust that your central government will successfully address unexpected health threats to our nation, including COVID-19 pandemic?',\n",
       "       'Do you trust that your local government will successfully address unexpected health threats to our nation, including COVID-19 pandemic?',\n",
       "       'Generally speaking, would you say that most people can be trusted or that you need to be very careful in dealing with people?',\n",
       "       'What is your age?', 'Age Groups', 'What is your gender?',\n",
       "       'Educational Attainment', 'Brazil Edu', 'Canada Edu', 'China Edu',\n",
       "       'France Edu', 'Germany Edu', 'Ghana Edu', 'India Edu', 'Italy Edu',\n",
       "       'Kenya Edu', 'Mexico Edu', 'Peru Edu', 'Poland Edu', 'Russia Edu',\n",
       "       'South Africa Edu', 'Spain Edu', 'Sweden Edu', 'Turkey Edu', 'UK Edu',\n",
       "       'US Edu', 'Singapore Edu', 'South Korea Edu', 'Ecuador Edu',\n",
       "       'Nigeria Edu', 'What is your average monthly household income?',\n",
       "       'Ghana Regions', 'Brazil Regions', 'Canada Regions', 'China Regions',\n",
       "       'France Regions', 'Germany Regions', 'Italy Regions', 'Poland Regions',\n",
       "       'Spain Regions', 'Sweden Regions', 'UK Regions', 'US Regions',\n",
       "       'Peru Regions', 'India Regions', 'South Africa Regions',\n",
       "       'Mexico Regions', 'Russia regions', 'Kenya Regions', 'Turkey Regions',\n",
       "       'Singapore Regions', 'South Korea Regions', 'Ecuador Regions',\n",
       "       'Nigeria Regions', 'Raked Weight'],\n",
       "      dtype='object')"
      ]
     },
     "execution_count": 4,
     "metadata": {},
     "output_type": "execute_result"
    }
   ],
   "source": [
    "data2.columns.values[1] = 'health_threat'\n",
    "data2.columns.values[2] = 'effective_vaccine'\n",
    "data2.columns.values[4] = 'safe_vaccine'\n",
    "data2.columns.values[5] = 'trust_on_government'\n",
    "data2.columns.values[6] = 'trust_on_science'\n",
    "data2.columns.values[23] = 'Profession'\n",
    "\n",
    "data2.columns"
   ]
  },
  {
   "cell_type": "markdown",
   "id": "af21d49e",
   "metadata": {},
   "source": [
    "This data set will help us solving rest of the problem statements (2,3,4,5 and 6)."
   ]
  },
  {
   "cell_type": "markdown",
   "id": "752f4853",
   "metadata": {},
   "source": [
    "Our target variable will be <b>effective_vaccine</b> that contains categorical values. Let's check those values."
   ]
  },
  {
   "cell_type": "code",
   "execution_count": 5,
   "id": "318c93c6",
   "metadata": {},
   "outputs": [
    {
     "data": {
      "text/plain": [
       "Strongly agree       9489\n",
       "Somewhat agree       8833\n",
       "Unsure/no opinion    2747\n",
       "Somewhat disagree    1252\n",
       "Strongly disagree     814\n",
       "Name: effective_vaccine, dtype: int64"
      ]
     },
     "execution_count": 5,
     "metadata": {},
     "output_type": "execute_result"
    }
   ],
   "source": [
    "data2['effective_vaccine'].value_counts(dropna=True)"
   ]
  },
  {
   "cell_type": "markdown",
   "id": "b31cea11",
   "metadata": {},
   "source": [
    "# 3. Feature engineering and data processing"
   ]
  },
  {
   "cell_type": "markdown",
   "id": "33e28436",
   "metadata": {},
   "source": [
    "To understand vaccine hesitancy, we need to combine the two data sets. We will use <i>location</i> column from the first data set and <i>Country</i> column from the second data set for joining the two data sets and we will select only those columns that are meant for our research or investigation. \n",
    "\n",
    "The hesitancy was more in the initial times (specifically between 2020 and 2021) when there were hardly any results or less results to conclude that the vaccine is effective. "
   ]
  },
  {
   "cell_type": "code",
   "execution_count": 6,
   "id": "78db2feb",
   "metadata": {},
   "outputs": [
    {
     "name": "stdout",
     "output_type": "stream",
     "text": [
      "<class 'pandas.core.frame.DataFrame'>\n",
      "Int64Index: 25370078 entries, 0 to 25370077\n",
      "Data columns (total 8 columns):\n",
      " #   Column               Dtype  \n",
      "---  ------               -----  \n",
      " 0   date                 object \n",
      " 1   diabetes_prevalence  float64\n",
      " 2   health_threat        object \n",
      " 3   effective_vaccine    object \n",
      " 4   safe_vaccine         object \n",
      " 5   trust_on_government  object \n",
      " 6   trust_on_science     object \n",
      " 7   Profession           object \n",
      "dtypes: float64(1), object(7)\n",
      "memory usage: 1.7+ GB\n"
     ]
    }
   ],
   "source": [
    "# merging two data sets and selecting only required columns\n",
    "df = pd.merge(data1[['location', 'date', 'diabetes_prevalence']], \n",
    "         data2[['Country', 'health_threat', 'effective_vaccine', 'safe_vaccine', 'trust_on_government', \n",
    "                'trust_on_science', 'Profession']], \n",
    "         left_on='location', \n",
    "         right_on='Country', \n",
    "         how='inner')\n",
    "\n",
    "# Let's drop unnecessary columns as they are not required for solving our problem statements\n",
    "df.drop(['location', 'Country'], axis = 1, inplace=True)\n",
    "\n",
    "df.info()"
   ]
  },
  {
   "cell_type": "markdown",
   "id": "61790db6",
   "metadata": {},
   "source": [
    "As we can see from the above result, there is no column that has null values. This simplifies our data cleaning process. We will remove those rows that has missing values"
   ]
  },
  {
   "cell_type": "code",
   "execution_count": 7,
   "id": "748ffd1c",
   "metadata": {},
   "outputs": [],
   "source": [
    "df = df.dropna().copy()"
   ]
  },
  {
   "cell_type": "markdown",
   "id": "e91b144e",
   "metadata": {},
   "source": [
    "Let's recheck the summary to make sure the dataset is cleaned"
   ]
  },
  {
   "cell_type": "code",
   "execution_count": 8,
   "id": "7a87c4ad",
   "metadata": {},
   "outputs": [
    {
     "name": "stdout",
     "output_type": "stream",
     "text": [
      "<class 'pandas.core.frame.DataFrame'>\n",
      "Int64Index: 25370078 entries, 0 to 25370077\n",
      "Data columns (total 8 columns):\n",
      " #   Column               Dtype  \n",
      "---  ------               -----  \n",
      " 0   date                 object \n",
      " 1   diabetes_prevalence  float64\n",
      " 2   health_threat        object \n",
      " 3   effective_vaccine    object \n",
      " 4   safe_vaccine         object \n",
      " 5   trust_on_government  object \n",
      " 6   trust_on_science     object \n",
      " 7   Profession           object \n",
      "dtypes: float64(1), object(7)\n",
      "memory usage: 1.7+ GB\n"
     ]
    }
   ],
   "source": [
    "df.info()"
   ]
  },
  {
   "cell_type": "markdown",
   "id": "530e84d7",
   "metadata": {},
   "source": [
    "Let's convert the date column to datetime64. This will help extract features of date like 'year', 'month', etc."
   ]
  },
  {
   "cell_type": "code",
   "execution_count": 9,
   "id": "5535a8bd",
   "metadata": {},
   "outputs": [],
   "source": [
    "# Convert the date to datetime64\n",
    "df['date'] = pd.to_datetime(df['date'])"
   ]
  },
  {
   "cell_type": "markdown",
   "id": "f7a60d7d",
   "metadata": {},
   "source": [
    "We will filter out data from 1st of January, 2020 to 31st of December, 2021. Please note that only the first data set has date feature while the second data set does not have. The second data set is already for the years 2020-2021. \n",
    "\n",
    "Let's query the data from 1st of January, 2020 and until 31st of December, 2021"
   ]
  },
  {
   "cell_type": "code",
   "execution_count": 10,
   "id": "b9d7e54c",
   "metadata": {},
   "outputs": [
    {
     "data": {
      "text/html": [
       "<div>\n",
       "<style scoped>\n",
       "    .dataframe tbody tr th:only-of-type {\n",
       "        vertical-align: middle;\n",
       "    }\n",
       "\n",
       "    .dataframe tbody tr th {\n",
       "        vertical-align: top;\n",
       "    }\n",
       "\n",
       "    .dataframe thead th {\n",
       "        text-align: right;\n",
       "    }\n",
       "</style>\n",
       "<table border=\"1\" class=\"dataframe\">\n",
       "  <thead>\n",
       "    <tr style=\"text-align: right;\">\n",
       "      <th></th>\n",
       "      <th>date</th>\n",
       "      <th>diabetes_prevalence</th>\n",
       "      <th>health_threat</th>\n",
       "      <th>effective_vaccine</th>\n",
       "      <th>safe_vaccine</th>\n",
       "      <th>trust_on_government</th>\n",
       "      <th>trust_on_science</th>\n",
       "      <th>Profession</th>\n",
       "    </tr>\n",
       "  </thead>\n",
       "  <tbody>\n",
       "    <tr>\n",
       "      <th>0</th>\n",
       "      <td>2020-02-26</td>\n",
       "      <td>8.11</td>\n",
       "      <td>Strongly agree</td>\n",
       "      <td>Strongly agree</td>\n",
       "      <td>Unsure/no opinion</td>\n",
       "      <td>Strongly agree</td>\n",
       "      <td>Strongly agree</td>\n",
       "      <td>None of the above</td>\n",
       "    </tr>\n",
       "    <tr>\n",
       "      <th>1</th>\n",
       "      <td>2020-02-26</td>\n",
       "      <td>8.11</td>\n",
       "      <td>Strongly agree</td>\n",
       "      <td>Strongly agree</td>\n",
       "      <td>Strongly agree</td>\n",
       "      <td>Strongly agree</td>\n",
       "      <td>Strongly agree</td>\n",
       "      <td>None of the above</td>\n",
       "    </tr>\n",
       "    <tr>\n",
       "      <th>2</th>\n",
       "      <td>2020-02-26</td>\n",
       "      <td>8.11</td>\n",
       "      <td>Strongly agree</td>\n",
       "      <td>Strongly agree</td>\n",
       "      <td>Unsure/no opinion</td>\n",
       "      <td>Strongly agree</td>\n",
       "      <td>Strongly agree</td>\n",
       "      <td>Nurse</td>\n",
       "    </tr>\n",
       "    <tr>\n",
       "      <th>3</th>\n",
       "      <td>2020-02-26</td>\n",
       "      <td>8.11</td>\n",
       "      <td>Strongly agree</td>\n",
       "      <td>Strongly agree</td>\n",
       "      <td>Strongly agree</td>\n",
       "      <td>Unsure/no opinion</td>\n",
       "      <td>Strongly agree</td>\n",
       "      <td>None of the above</td>\n",
       "    </tr>\n",
       "    <tr>\n",
       "      <th>4</th>\n",
       "      <td>2020-02-26</td>\n",
       "      <td>8.11</td>\n",
       "      <td>Strongly agree</td>\n",
       "      <td>Strongly agree</td>\n",
       "      <td>Strongly agree</td>\n",
       "      <td>Strongly disagree</td>\n",
       "      <td>Strongly agree</td>\n",
       "      <td>None of the above</td>\n",
       "    </tr>\n",
       "    <tr>\n",
       "      <th>...</th>\n",
       "      <td>...</td>\n",
       "      <td>...</td>\n",
       "      <td>...</td>\n",
       "      <td>...</td>\n",
       "      <td>...</td>\n",
       "      <td>...</td>\n",
       "      <td>...</td>\n",
       "      <td>...</td>\n",
       "    </tr>\n",
       "    <tr>\n",
       "      <th>24966073</th>\n",
       "      <td>2021-12-31</td>\n",
       "      <td>10.79</td>\n",
       "      <td>Strongly agree</td>\n",
       "      <td>Strongly agree</td>\n",
       "      <td>Strongly agree</td>\n",
       "      <td>Strongly agree</td>\n",
       "      <td>Strongly agree</td>\n",
       "      <td>None of the above</td>\n",
       "    </tr>\n",
       "    <tr>\n",
       "      <th>24966074</th>\n",
       "      <td>2021-12-31</td>\n",
       "      <td>10.79</td>\n",
       "      <td>Strongly agree</td>\n",
       "      <td>Strongly agree</td>\n",
       "      <td>Strongly agree</td>\n",
       "      <td>Strongly agree</td>\n",
       "      <td>Strongly agree</td>\n",
       "      <td>None of the above</td>\n",
       "    </tr>\n",
       "    <tr>\n",
       "      <th>24966075</th>\n",
       "      <td>2021-12-31</td>\n",
       "      <td>10.79</td>\n",
       "      <td>Strongly disagree</td>\n",
       "      <td>Strongly disagree</td>\n",
       "      <td>Strongly disagree</td>\n",
       "      <td>Strongly disagree</td>\n",
       "      <td>Strongly disagree</td>\n",
       "      <td>None of the above</td>\n",
       "    </tr>\n",
       "    <tr>\n",
       "      <th>24966076</th>\n",
       "      <td>2021-12-31</td>\n",
       "      <td>10.79</td>\n",
       "      <td>Somewhat agree</td>\n",
       "      <td>Somewhat agree</td>\n",
       "      <td>Strongly agree</td>\n",
       "      <td>Unsure/no opinion</td>\n",
       "      <td>Somewhat agree</td>\n",
       "      <td>Nurse</td>\n",
       "    </tr>\n",
       "    <tr>\n",
       "      <th>24966077</th>\n",
       "      <td>2021-12-31</td>\n",
       "      <td>10.79</td>\n",
       "      <td>Strongly agree</td>\n",
       "      <td>Strongly agree</td>\n",
       "      <td>Strongly agree</td>\n",
       "      <td>Strongly agree</td>\n",
       "      <td>Strongly agree</td>\n",
       "      <td>None of the above</td>\n",
       "    </tr>\n",
       "  </tbody>\n",
       "</table>\n",
       "<p>16023538 rows × 8 columns</p>\n",
       "</div>"
      ],
      "text/plain": [
       "               date  diabetes_prevalence      health_threat  \\\n",
       "0        2020-02-26                 8.11     Strongly agree   \n",
       "1        2020-02-26                 8.11     Strongly agree   \n",
       "2        2020-02-26                 8.11     Strongly agree   \n",
       "3        2020-02-26                 8.11     Strongly agree   \n",
       "4        2020-02-26                 8.11     Strongly agree   \n",
       "...             ...                  ...                ...   \n",
       "24966073 2021-12-31                10.79     Strongly agree   \n",
       "24966074 2021-12-31                10.79     Strongly agree   \n",
       "24966075 2021-12-31                10.79  Strongly disagree   \n",
       "24966076 2021-12-31                10.79     Somewhat agree   \n",
       "24966077 2021-12-31                10.79     Strongly agree   \n",
       "\n",
       "          effective_vaccine       safe_vaccine trust_on_government  \\\n",
       "0            Strongly agree  Unsure/no opinion      Strongly agree   \n",
       "1            Strongly agree     Strongly agree      Strongly agree   \n",
       "2            Strongly agree  Unsure/no opinion      Strongly agree   \n",
       "3            Strongly agree     Strongly agree   Unsure/no opinion   \n",
       "4            Strongly agree     Strongly agree   Strongly disagree   \n",
       "...                     ...                ...                 ...   \n",
       "24966073     Strongly agree     Strongly agree      Strongly agree   \n",
       "24966074     Strongly agree     Strongly agree      Strongly agree   \n",
       "24966075  Strongly disagree  Strongly disagree   Strongly disagree   \n",
       "24966076     Somewhat agree     Strongly agree   Unsure/no opinion   \n",
       "24966077     Strongly agree     Strongly agree      Strongly agree   \n",
       "\n",
       "           trust_on_science         Profession  \n",
       "0            Strongly agree  None of the above  \n",
       "1            Strongly agree  None of the above  \n",
       "2            Strongly agree              Nurse  \n",
       "3            Strongly agree  None of the above  \n",
       "4            Strongly agree  None of the above  \n",
       "...                     ...                ...  \n",
       "24966073     Strongly agree  None of the above  \n",
       "24966074     Strongly agree  None of the above  \n",
       "24966075  Strongly disagree  None of the above  \n",
       "24966076     Somewhat agree              Nurse  \n",
       "24966077     Strongly agree  None of the above  \n",
       "\n",
       "[16023538 rows x 8 columns]"
      ]
     },
     "execution_count": 10,
     "metadata": {},
     "output_type": "execute_result"
    }
   ],
   "source": [
    "new_df = df.loc[(df['date'] >= '2020-01-01') & (df['date'] <= '2021-12-31')]\n",
    "\n",
    "new_df"
   ]
  },
  {
   "cell_type": "markdown",
   "id": "254f0614",
   "metadata": {},
   "source": [
    "<b><u><font size=\"4\">Data Transformation of the target variable into binary</font></u></b>"
   ]
  },
  {
   "cell_type": "markdown",
   "id": "2105d319",
   "metadata": {},
   "source": [
    "As our research is based on finding out the vaccine hesitancy reasons and we are only interested to see who have strongly disagreed. We will break our output variable values into binary form (0 and 1). Let's keep <b>Strongly Disagree values as 0 and all other values as 1.</b> This will allow us to interpret better whether any of the taken feature variables have a strong dependency on the output variable or not."
   ]
  },
  {
   "cell_type": "code",
   "execution_count": 11,
   "id": "dd88cc74",
   "metadata": {},
   "outputs": [
    {
     "data": {
      "text/html": [
       "<div>\n",
       "<style scoped>\n",
       "    .dataframe tbody tr th:only-of-type {\n",
       "        vertical-align: middle;\n",
       "    }\n",
       "\n",
       "    .dataframe tbody tr th {\n",
       "        vertical-align: top;\n",
       "    }\n",
       "\n",
       "    .dataframe thead th {\n",
       "        text-align: right;\n",
       "    }\n",
       "</style>\n",
       "<table border=\"1\" class=\"dataframe\">\n",
       "  <thead>\n",
       "    <tr style=\"text-align: right;\">\n",
       "      <th></th>\n",
       "      <th>date</th>\n",
       "      <th>diabetes_prevalence</th>\n",
       "      <th>health_threat</th>\n",
       "      <th>effective_vaccine</th>\n",
       "      <th>safe_vaccine</th>\n",
       "      <th>trust_on_government</th>\n",
       "      <th>trust_on_science</th>\n",
       "      <th>Profession</th>\n",
       "    </tr>\n",
       "  </thead>\n",
       "  <tbody>\n",
       "    <tr>\n",
       "      <th>0</th>\n",
       "      <td>2020-02-26</td>\n",
       "      <td>8.11</td>\n",
       "      <td>Strongly agree</td>\n",
       "      <td>1</td>\n",
       "      <td>Unsure/no opinion</td>\n",
       "      <td>Strongly agree</td>\n",
       "      <td>Strongly agree</td>\n",
       "      <td>None of the above</td>\n",
       "    </tr>\n",
       "    <tr>\n",
       "      <th>1</th>\n",
       "      <td>2020-02-26</td>\n",
       "      <td>8.11</td>\n",
       "      <td>Strongly agree</td>\n",
       "      <td>1</td>\n",
       "      <td>Strongly agree</td>\n",
       "      <td>Strongly agree</td>\n",
       "      <td>Strongly agree</td>\n",
       "      <td>None of the above</td>\n",
       "    </tr>\n",
       "    <tr>\n",
       "      <th>2</th>\n",
       "      <td>2020-02-26</td>\n",
       "      <td>8.11</td>\n",
       "      <td>Strongly agree</td>\n",
       "      <td>1</td>\n",
       "      <td>Unsure/no opinion</td>\n",
       "      <td>Strongly agree</td>\n",
       "      <td>Strongly agree</td>\n",
       "      <td>Nurse</td>\n",
       "    </tr>\n",
       "    <tr>\n",
       "      <th>3</th>\n",
       "      <td>2020-02-26</td>\n",
       "      <td>8.11</td>\n",
       "      <td>Strongly agree</td>\n",
       "      <td>1</td>\n",
       "      <td>Strongly agree</td>\n",
       "      <td>Unsure/no opinion</td>\n",
       "      <td>Strongly agree</td>\n",
       "      <td>None of the above</td>\n",
       "    </tr>\n",
       "    <tr>\n",
       "      <th>4</th>\n",
       "      <td>2020-02-26</td>\n",
       "      <td>8.11</td>\n",
       "      <td>Strongly agree</td>\n",
       "      <td>1</td>\n",
       "      <td>Strongly agree</td>\n",
       "      <td>Strongly disagree</td>\n",
       "      <td>Strongly agree</td>\n",
       "      <td>None of the above</td>\n",
       "    </tr>\n",
       "    <tr>\n",
       "      <th>...</th>\n",
       "      <td>...</td>\n",
       "      <td>...</td>\n",
       "      <td>...</td>\n",
       "      <td>...</td>\n",
       "      <td>...</td>\n",
       "      <td>...</td>\n",
       "      <td>...</td>\n",
       "      <td>...</td>\n",
       "    </tr>\n",
       "    <tr>\n",
       "      <th>24966073</th>\n",
       "      <td>2021-12-31</td>\n",
       "      <td>10.79</td>\n",
       "      <td>Strongly agree</td>\n",
       "      <td>1</td>\n",
       "      <td>Strongly agree</td>\n",
       "      <td>Strongly agree</td>\n",
       "      <td>Strongly agree</td>\n",
       "      <td>None of the above</td>\n",
       "    </tr>\n",
       "    <tr>\n",
       "      <th>24966074</th>\n",
       "      <td>2021-12-31</td>\n",
       "      <td>10.79</td>\n",
       "      <td>Strongly agree</td>\n",
       "      <td>1</td>\n",
       "      <td>Strongly agree</td>\n",
       "      <td>Strongly agree</td>\n",
       "      <td>Strongly agree</td>\n",
       "      <td>None of the above</td>\n",
       "    </tr>\n",
       "    <tr>\n",
       "      <th>24966075</th>\n",
       "      <td>2021-12-31</td>\n",
       "      <td>10.79</td>\n",
       "      <td>Strongly disagree</td>\n",
       "      <td>0</td>\n",
       "      <td>Strongly disagree</td>\n",
       "      <td>Strongly disagree</td>\n",
       "      <td>Strongly disagree</td>\n",
       "      <td>None of the above</td>\n",
       "    </tr>\n",
       "    <tr>\n",
       "      <th>24966076</th>\n",
       "      <td>2021-12-31</td>\n",
       "      <td>10.79</td>\n",
       "      <td>Somewhat agree</td>\n",
       "      <td>1</td>\n",
       "      <td>Strongly agree</td>\n",
       "      <td>Unsure/no opinion</td>\n",
       "      <td>Somewhat agree</td>\n",
       "      <td>Nurse</td>\n",
       "    </tr>\n",
       "    <tr>\n",
       "      <th>24966077</th>\n",
       "      <td>2021-12-31</td>\n",
       "      <td>10.79</td>\n",
       "      <td>Strongly agree</td>\n",
       "      <td>1</td>\n",
       "      <td>Strongly agree</td>\n",
       "      <td>Strongly agree</td>\n",
       "      <td>Strongly agree</td>\n",
       "      <td>None of the above</td>\n",
       "    </tr>\n",
       "  </tbody>\n",
       "</table>\n",
       "<p>16023538 rows × 8 columns</p>\n",
       "</div>"
      ],
      "text/plain": [
       "               date  diabetes_prevalence      health_threat  \\\n",
       "0        2020-02-26                 8.11     Strongly agree   \n",
       "1        2020-02-26                 8.11     Strongly agree   \n",
       "2        2020-02-26                 8.11     Strongly agree   \n",
       "3        2020-02-26                 8.11     Strongly agree   \n",
       "4        2020-02-26                 8.11     Strongly agree   \n",
       "...             ...                  ...                ...   \n",
       "24966073 2021-12-31                10.79     Strongly agree   \n",
       "24966074 2021-12-31                10.79     Strongly agree   \n",
       "24966075 2021-12-31                10.79  Strongly disagree   \n",
       "24966076 2021-12-31                10.79     Somewhat agree   \n",
       "24966077 2021-12-31                10.79     Strongly agree   \n",
       "\n",
       "          effective_vaccine       safe_vaccine trust_on_government  \\\n",
       "0                         1  Unsure/no opinion      Strongly agree   \n",
       "1                         1     Strongly agree      Strongly agree   \n",
       "2                         1  Unsure/no opinion      Strongly agree   \n",
       "3                         1     Strongly agree   Unsure/no opinion   \n",
       "4                         1     Strongly agree   Strongly disagree   \n",
       "...                     ...                ...                 ...   \n",
       "24966073                  1     Strongly agree      Strongly agree   \n",
       "24966074                  1     Strongly agree      Strongly agree   \n",
       "24966075                  0  Strongly disagree   Strongly disagree   \n",
       "24966076                  1     Strongly agree   Unsure/no opinion   \n",
       "24966077                  1     Strongly agree      Strongly agree   \n",
       "\n",
       "           trust_on_science         Profession  \n",
       "0            Strongly agree  None of the above  \n",
       "1            Strongly agree  None of the above  \n",
       "2            Strongly agree              Nurse  \n",
       "3            Strongly agree  None of the above  \n",
       "4            Strongly agree  None of the above  \n",
       "...                     ...                ...  \n",
       "24966073     Strongly agree  None of the above  \n",
       "24966074     Strongly agree  None of the above  \n",
       "24966075  Strongly disagree  None of the above  \n",
       "24966076     Somewhat agree              Nurse  \n",
       "24966077     Strongly agree  None of the above  \n",
       "\n",
       "[16023538 rows x 8 columns]"
      ]
     },
     "execution_count": 11,
     "metadata": {},
     "output_type": "execute_result"
    }
   ],
   "source": [
    "values_replace = {\n",
    "                    'Strongly agree': 1, \n",
    "                    'Somewhat agree': 1, \n",
    "                    'Unsure/no opinion': 1, \n",
    "                    'Somewhat disagree': 1, \n",
    "                    'Strongly disagree': 0 \n",
    "                 }\n",
    "\n",
    "new_df = new_df.replace({'effective_vaccine': values_replace })\n",
    "\n",
    "# creating a copy before transforming categorical features for visualization; \n",
    "visualization_df = new_df.copy()\n",
    "\n",
    "new_df"
   ]
  },
  {
   "cell_type": "markdown",
   "id": "72e7aa91",
   "metadata": {},
   "source": [
    "The reason behind not choosing <b>Somewhat disagree</b> as \"0\" is that it is not a strong opinion. Although, when it comes to the measurement of degree of disagreement, it will play a major role. But our goal is to achieve the strong reasons behind the disagreement. If someone has strongly disagreed, he/she must have strong reasons whereas if someone has somewhat disagreed, he/she might agree on some parameters like trust on government or trust on science or anything that people who have strongly disagreed don't agree on."
   ]
  },
  {
   "cell_type": "markdown",
   "id": "4d955cc5",
   "metadata": {},
   "source": [
    "<b><u><font size=\"4\">Data Transformation of the categorical features</font></u></b>"
   ]
  },
  {
   "cell_type": "markdown",
   "id": "958e79e6",
   "metadata": {},
   "source": [
    "We will perform <b>Target Encoding</b> to all the categorical features as it is one of the best encoding methods. It encodes based on the relationship a feature is forming with the target variable. This is also refer to as adding relative weights to the feature."
   ]
  },
  {
   "cell_type": "code",
   "execution_count": 12,
   "id": "1c7a510a",
   "metadata": {},
   "outputs": [
    {
     "data": {
      "text/html": [
       "<div>\n",
       "<style scoped>\n",
       "    .dataframe tbody tr th:only-of-type {\n",
       "        vertical-align: middle;\n",
       "    }\n",
       "\n",
       "    .dataframe tbody tr th {\n",
       "        vertical-align: top;\n",
       "    }\n",
       "\n",
       "    .dataframe thead th {\n",
       "        text-align: right;\n",
       "    }\n",
       "</style>\n",
       "<table border=\"1\" class=\"dataframe\">\n",
       "  <thead>\n",
       "    <tr style=\"text-align: right;\">\n",
       "      <th></th>\n",
       "      <th>date</th>\n",
       "      <th>diabetes_prevalence</th>\n",
       "      <th>health_threat</th>\n",
       "      <th>effective_vaccine</th>\n",
       "      <th>safe_vaccine</th>\n",
       "      <th>trust_on_government</th>\n",
       "      <th>trust_on_science</th>\n",
       "      <th>Profession</th>\n",
       "    </tr>\n",
       "  </thead>\n",
       "  <tbody>\n",
       "    <tr>\n",
       "      <th>0</th>\n",
       "      <td>2020-02-26</td>\n",
       "      <td>8.11</td>\n",
       "      <td>0.981925</td>\n",
       "      <td>1</td>\n",
       "      <td>0.971851</td>\n",
       "      <td>0.987010</td>\n",
       "      <td>0.992252</td>\n",
       "      <td>0.963466</td>\n",
       "    </tr>\n",
       "    <tr>\n",
       "      <th>1</th>\n",
       "      <td>2020-02-26</td>\n",
       "      <td>8.11</td>\n",
       "      <td>0.981925</td>\n",
       "      <td>1</td>\n",
       "      <td>0.992110</td>\n",
       "      <td>0.987010</td>\n",
       "      <td>0.992252</td>\n",
       "      <td>0.963466</td>\n",
       "    </tr>\n",
       "    <tr>\n",
       "      <th>2</th>\n",
       "      <td>2020-02-26</td>\n",
       "      <td>8.11</td>\n",
       "      <td>0.981925</td>\n",
       "      <td>1</td>\n",
       "      <td>0.971851</td>\n",
       "      <td>0.987010</td>\n",
       "      <td>0.992252</td>\n",
       "      <td>0.977500</td>\n",
       "    </tr>\n",
       "    <tr>\n",
       "      <th>3</th>\n",
       "      <td>2020-02-26</td>\n",
       "      <td>8.11</td>\n",
       "      <td>0.981925</td>\n",
       "      <td>1</td>\n",
       "      <td>0.992110</td>\n",
       "      <td>0.946275</td>\n",
       "      <td>0.992252</td>\n",
       "      <td>0.963466</td>\n",
       "    </tr>\n",
       "    <tr>\n",
       "      <th>4</th>\n",
       "      <td>2020-02-26</td>\n",
       "      <td>8.11</td>\n",
       "      <td>0.981925</td>\n",
       "      <td>1</td>\n",
       "      <td>0.992110</td>\n",
       "      <td>0.764666</td>\n",
       "      <td>0.992252</td>\n",
       "      <td>0.963466</td>\n",
       "    </tr>\n",
       "    <tr>\n",
       "      <th>...</th>\n",
       "      <td>...</td>\n",
       "      <td>...</td>\n",
       "      <td>...</td>\n",
       "      <td>...</td>\n",
       "      <td>...</td>\n",
       "      <td>...</td>\n",
       "      <td>...</td>\n",
       "      <td>...</td>\n",
       "    </tr>\n",
       "    <tr>\n",
       "      <th>24966073</th>\n",
       "      <td>2021-12-31</td>\n",
       "      <td>10.79</td>\n",
       "      <td>0.981925</td>\n",
       "      <td>1</td>\n",
       "      <td>0.992110</td>\n",
       "      <td>0.987010</td>\n",
       "      <td>0.992252</td>\n",
       "      <td>0.963466</td>\n",
       "    </tr>\n",
       "    <tr>\n",
       "      <th>24966074</th>\n",
       "      <td>2021-12-31</td>\n",
       "      <td>10.79</td>\n",
       "      <td>0.981925</td>\n",
       "      <td>1</td>\n",
       "      <td>0.992110</td>\n",
       "      <td>0.987010</td>\n",
       "      <td>0.992252</td>\n",
       "      <td>0.963466</td>\n",
       "    </tr>\n",
       "    <tr>\n",
       "      <th>24966075</th>\n",
       "      <td>2021-12-31</td>\n",
       "      <td>10.79</td>\n",
       "      <td>0.480636</td>\n",
       "      <td>0</td>\n",
       "      <td>0.478199</td>\n",
       "      <td>0.764666</td>\n",
       "      <td>0.530803</td>\n",
       "      <td>0.963466</td>\n",
       "    </tr>\n",
       "    <tr>\n",
       "      <th>24966076</th>\n",
       "      <td>2021-12-31</td>\n",
       "      <td>10.79</td>\n",
       "      <td>0.976262</td>\n",
       "      <td>1</td>\n",
       "      <td>0.992110</td>\n",
       "      <td>0.946275</td>\n",
       "      <td>0.989251</td>\n",
       "      <td>0.977500</td>\n",
       "    </tr>\n",
       "    <tr>\n",
       "      <th>24966077</th>\n",
       "      <td>2021-12-31</td>\n",
       "      <td>10.79</td>\n",
       "      <td>0.981925</td>\n",
       "      <td>1</td>\n",
       "      <td>0.992110</td>\n",
       "      <td>0.987010</td>\n",
       "      <td>0.992252</td>\n",
       "      <td>0.963466</td>\n",
       "    </tr>\n",
       "  </tbody>\n",
       "</table>\n",
       "<p>16023538 rows × 8 columns</p>\n",
       "</div>"
      ],
      "text/plain": [
       "               date  diabetes_prevalence  health_threat  effective_vaccine  \\\n",
       "0        2020-02-26                 8.11       0.981925                  1   \n",
       "1        2020-02-26                 8.11       0.981925                  1   \n",
       "2        2020-02-26                 8.11       0.981925                  1   \n",
       "3        2020-02-26                 8.11       0.981925                  1   \n",
       "4        2020-02-26                 8.11       0.981925                  1   \n",
       "...             ...                  ...            ...                ...   \n",
       "24966073 2021-12-31                10.79       0.981925                  1   \n",
       "24966074 2021-12-31                10.79       0.981925                  1   \n",
       "24966075 2021-12-31                10.79       0.480636                  0   \n",
       "24966076 2021-12-31                10.79       0.976262                  1   \n",
       "24966077 2021-12-31                10.79       0.981925                  1   \n",
       "\n",
       "          safe_vaccine  trust_on_government  trust_on_science  Profession  \n",
       "0             0.971851             0.987010          0.992252    0.963466  \n",
       "1             0.992110             0.987010          0.992252    0.963466  \n",
       "2             0.971851             0.987010          0.992252    0.977500  \n",
       "3             0.992110             0.946275          0.992252    0.963466  \n",
       "4             0.992110             0.764666          0.992252    0.963466  \n",
       "...                ...                  ...               ...         ...  \n",
       "24966073      0.992110             0.987010          0.992252    0.963466  \n",
       "24966074      0.992110             0.987010          0.992252    0.963466  \n",
       "24966075      0.478199             0.764666          0.530803    0.963466  \n",
       "24966076      0.992110             0.946275          0.989251    0.977500  \n",
       "24966077      0.992110             0.987010          0.992252    0.963466  \n",
       "\n",
       "[16023538 rows x 8 columns]"
      ]
     },
     "execution_count": 12,
     "metadata": {},
     "output_type": "execute_result"
    }
   ],
   "source": [
    "from category_encoders.target_encoder import TargetEncoder\n",
    "\n",
    "encoder = TargetEncoder()\n",
    "\n",
    "feature_list = ['trust_on_government', 'trust_on_science', 'safe_vaccine', 'Profession', 'health_threat']\n",
    "\n",
    "new_df[feature_list] = encoder.fit_transform(new_df[feature_list], new_df['effective_vaccine'])\n",
    "\n",
    "new_df"
   ]
  },
  {
   "cell_type": "markdown",
   "id": "4891dc69",
   "metadata": {},
   "source": [
    "Just making sure one more time that we don't have any missing values."
   ]
  },
  {
   "cell_type": "code",
   "execution_count": 13,
   "id": "96458081",
   "metadata": {},
   "outputs": [
    {
     "name": "stdout",
     "output_type": "stream",
     "text": [
      "<class 'pandas.core.frame.DataFrame'>\n",
      "Int64Index: 16023538 entries, 0 to 24966077\n",
      "Data columns (total 8 columns):\n",
      " #   Column               Dtype         \n",
      "---  ------               -----         \n",
      " 0   date                 datetime64[ns]\n",
      " 1   diabetes_prevalence  float64       \n",
      " 2   health_threat        float64       \n",
      " 3   effective_vaccine    int64         \n",
      " 4   safe_vaccine         float64       \n",
      " 5   trust_on_government  float64       \n",
      " 6   trust_on_science     float64       \n",
      " 7   Profession           float64       \n",
      "dtypes: datetime64[ns](1), float64(6), int64(1)\n",
      "memory usage: 1.1 GB\n"
     ]
    }
   ],
   "source": [
    "new_df = new_df.dropna().copy()\n",
    "\n",
    "new_df.info()"
   ]
  },
  {
   "cell_type": "markdown",
   "id": "b8863791",
   "metadata": {},
   "source": [
    "# 4. Visualization and Results"
   ]
  },
  {
   "cell_type": "markdown",
   "id": "93a05d75",
   "metadata": {},
   "source": [
    "Before we develop our model, we'll visually explore the data. This can provide useful information about the data that will be used later on when we try to enhance the classification rate of our model.\n",
    "\n",
    "We’ll start with a visualization of our output variable."
   ]
  },
  {
   "cell_type": "code",
   "execution_count": 14,
   "id": "08b3af6a",
   "metadata": {},
   "outputs": [
    {
     "data": {
      "image/png": "[encoded data removed]",
      "text/plain": [
       "<Figure size 640x480 with 1 Axes>"
      ]
     },
     "metadata": {},
     "output_type": "display_data"
    }
   ],
   "source": [
    "import matplotlib.pyplot as plt\n",
    "import numpy as np\n",
    "\n",
    "myLabels = 'Effective', 'Not Effective'\n",
    "\n",
    "plt.pie(np.array(visualization_df['effective_vaccine'].value_counts()), \n",
    "        labels = myLabels, \n",
    "        startangle = 90,\n",
    "        autopct='%1.1f%%')\n",
    "\n",
    "plt.show()"
   ]
  },
  {
   "cell_type": "markdown",
   "id": "53a4b57e",
   "metadata": {},
   "source": [
    "<b>Finding: </b>From the above graph, it is evident that only 3.5% people strongly believe that the vaccine is not effective. It is also clear that we have an imbalanced data set where one class (referring to 96.5% portion) is much more than the other class (referring to 3.5% portion). We have to balance this data set while we create our model so that our model does get biased due to more number of samples in one class."
   ]
  },
  {
   "cell_type": "markdown",
   "id": "b53ddb0d",
   "metadata": {},
   "source": [
    "<b><u><font size=\"4\">Q1. Were people with certain diseases like diabetes say that the vaccine is ineffective ?</font></u></b>"
   ]
  },
  {
   "cell_type": "markdown",
   "id": "fef04456",
   "metadata": {},
   "source": [
    "To solve this problem statement, we will first understand the correlation between <b>diabetes_prevalence</b> and <b>effective_vaccine</b>"
   ]
  },
  {
   "cell_type": "code",
   "execution_count": 15,
   "id": "19ba7388",
   "metadata": {},
   "outputs": [
    {
     "data": {
      "text/plain": [
       "<AxesSubplot:xlabel='effective_vaccine', ylabel='diabetes_prevalence'>"
      ]
     },
     "execution_count": 15,
     "metadata": {},
     "output_type": "execute_result"
    },
    {
     "data": {
      "image/png": "[encoded data removed]",
      "text/plain": [
       "<Figure size 640x480 with 1 Axes>"
      ]
     },
     "metadata": {},
     "output_type": "display_data"
    }
   ],
   "source": [
    "import seaborn as sns\n",
    "\n",
    "sns.boxplot(x='effective_vaccine', y='diabetes_prevalence', data=visualization_df, palette='rainbow')"
   ]
  },
  {
   "cell_type": "markdown",
   "id": "626aac38",
   "metadata": {},
   "source": [
    "<b>Finding: </b>From the above graph, the means of box plots are almost in one line which means that these two columns are not correlated with each other or diabetes_prevalence will not have a good enough impact on the output variable. Therefore, we will not select this feature while modelling."
   ]
  },
  {
   "cell_type": "markdown",
   "id": "69f565ac",
   "metadata": {},
   "source": [
    "<b><u><font size=\"4\">Q2. Were people hesitant because of certain political beliefs or trust ?</font></u></b>"
   ]
  },
  {
   "cell_type": "markdown",
   "id": "4b774cf2",
   "metadata": {},
   "source": [
    "To solve this problem statement, we will first understand the correlation between <b>trust_on_government</b> and <b>effective_vaccine</b>."
   ]
  },
  {
   "cell_type": "code",
   "execution_count": 16,
   "id": "062d0b7c",
   "metadata": {},
   "outputs": [
    {
     "data": {
      "text/plain": [
       "<matplotlib.legend.Legend at 0x7fc7d98a2fd0>"
      ]
     },
     "execution_count": 16,
     "metadata": {},
     "output_type": "execute_result"
    },
    {
     "data": {
      "image/png": "[encoded data removed]",
      "text/plain": [
       "<Figure size 640x480 with 1 Axes>"
      ]
     },
     "metadata": {},
     "output_type": "display_data"
    }
   ],
   "source": [
    "crossTb_govt = pd.crosstab(visualization_df['effective_vaccine'], visualization_df['trust_on_government'])\n",
    "crossTb_govt.plot(kind='bar', rot=0).legend(title='Trust on government')"
   ]
  },
  {
   "cell_type": "markdown",
   "id": "645381bf",
   "metadata": {},
   "source": [
    "<b>Finding: </b>Clearly, we have more data for the people who believe in the government and also believe in the effectiveness of the vaccine. We have less data to support our opposite finding (where people who don't believe in the government also don't believe in the effectiveness of vaccine). This feature will have larger impact in predicting the positive outcome."
   ]
  },
  {
   "cell_type": "markdown",
   "id": "5b95d397",
   "metadata": {},
   "source": [
    "<b><u><font size=\"4\">Q3. Were people that don't believe in the science behind it say that the vaccine is ineffective ?</font></u></b>"
   ]
  },
  {
   "cell_type": "markdown",
   "id": "d22e882d",
   "metadata": {},
   "source": [
    "To solve this problem statement, we will first understand the correlation between <b>trust_on_science</b> and <b>effective_vaccine</b>"
   ]
  },
  {
   "cell_type": "code",
   "execution_count": 17,
   "id": "d6e3799a",
   "metadata": {
    "scrolled": true
   },
   "outputs": [
    {
     "data": {
      "text/plain": [
       "<matplotlib.legend.Legend at 0x7fc809d3a880>"
      ]
     },
     "execution_count": 17,
     "metadata": {},
     "output_type": "execute_result"
    },
    {
     "data": {
      "image/png": "[encoded data removed]",
      "text/plain": [
       "<Figure size 640x480 with 1 Axes>"
      ]
     },
     "metadata": {},
     "output_type": "display_data"
    }
   ],
   "source": [
    "crossTb_sci = pd.crosstab(visualization_df['effective_vaccine'], visualization_df['trust_on_science'])\n",
    "crossTb_sci.plot(kind='bar', rot=0).legend(title='Trust on science')"
   ]
  },
  {
   "cell_type": "markdown",
   "id": "bdeea36d",
   "metadata": {},
   "source": [
    "<b>Finding: </b>Clearly, we have more data for the people who believe in the science and also believe in the effectiveness of the vaccine. We have less data to support our opposite finding (where people who don't believe in the science also don't believe in the effectiveness of vaccine). This feature will have larger impact in predicting the positive outcome."
   ]
  },
  {
   "cell_type": "markdown",
   "id": "a25e9097",
   "metadata": {},
   "source": [
    "<b><u><font size=\"4\">Q4. Were people who say that the vaccines are not safe are also saying that it is ineffective ?</font></u></b>"
   ]
  },
  {
   "cell_type": "markdown",
   "id": "f48397be",
   "metadata": {},
   "source": [
    "To solve this problem statement, we will first understand the <b>correlation between people_are_trustworthy and effective_vaccine</b>"
   ]
  },
  {
   "cell_type": "code",
   "execution_count": 18,
   "id": "5f01aff1",
   "metadata": {},
   "outputs": [
    {
     "data": {
      "text/plain": [
       "<matplotlib.legend.Legend at 0x7fc7dafe4e50>"
      ]
     },
     "execution_count": 18,
     "metadata": {},
     "output_type": "execute_result"
    },
    {
     "data": {
      "image/png": "[encoded data removed]",
      "text/plain": [
       "<Figure size 640x480 with 1 Axes>"
      ]
     },
     "metadata": {},
     "output_type": "display_data"
    }
   ],
   "source": [
    "crossTb_gt = pd.crosstab(visualization_df['effective_vaccine'], visualization_df['safe_vaccine'],)\n",
    "crossTb_gt.plot(kind=\"bar\", rot=0).legend(title='Vaccine is Safe')"
   ]
  },
  {
   "cell_type": "markdown",
   "id": "98bddc24",
   "metadata": {},
   "source": [
    "<b>Finding: </b>Clearly, we have more data for the people who believe that the vaccine is safe also believe in the effectiveness of the vaccine. We have less data to support our opposite finding (where people who don't believe that the vaccine is safe also don't believe in the effectiveness of vaccine). This feature will have larger impact in predicting the positive outcome."
   ]
  },
  {
   "cell_type": "markdown",
   "id": "2b1c3dbe",
   "metadata": {},
   "source": [
    "<b><u><font size=\"4\">Q5. Could profession impact the thinking of vaccine effectiveness ?</font></u></b>"
   ]
  },
  {
   "cell_type": "markdown",
   "id": "18ed59f1",
   "metadata": {},
   "source": [
    "To solve this problem statement, we will first understand the <b>correlation between Profession and effective_vaccine</b>"
   ]
  },
  {
   "cell_type": "code",
   "execution_count": 19,
   "id": "e5ccbd03",
   "metadata": {
    "scrolled": true
   },
   "outputs": [
    {
     "data": {
      "text/plain": [
       "<AxesSubplot:xlabel='effective_vaccine'>"
      ]
     },
     "execution_count": 19,
     "metadata": {},
     "output_type": "execute_result"
    },
    {
     "data": {
      "image/png": "[encoded data removed]",
      "text/plain": [
       "<Figure size 640x480 with 1 Axes>"
      ]
     },
     "metadata": {},
     "output_type": "display_data"
    }
   ],
   "source": [
    "crossTb_prof = pd.crosstab(visualization_df['effective_vaccine'], visualization_df['Profession'])\n",
    "crossTb_prof.plot(kind=\"bar\", rot=0)"
   ]
  },
  {
   "cell_type": "markdown",
   "id": "423dfcac",
   "metadata": {},
   "source": [
    "<b>Finding: </b>People in different sectors of their profession all believe that the vaccine is effective. Again, we have more data to support the positive outcome."
   ]
  },
  {
   "cell_type": "markdown",
   "id": "87c4586e",
   "metadata": {},
   "source": [
    "<b><u><font size=\"4\">Q6. Does people who think that COVID-19 is not a dangerous threat also thinks that the vaccine is ineffective ?</font></u></b>"
   ]
  },
  {
   "cell_type": "markdown",
   "id": "94fefb95",
   "metadata": {},
   "source": [
    "To solve this problem statement, we will first understand the <b>correlation between health_threat and effective_vaccine</b>"
   ]
  },
  {
   "cell_type": "code",
   "execution_count": 20,
   "id": "6acfc58f",
   "metadata": {},
   "outputs": [
    {
     "data": {
      "text/plain": [
       "<AxesSubplot:xlabel='effective_vaccine'>"
      ]
     },
     "execution_count": 20,
     "metadata": {},
     "output_type": "execute_result"
    },
    {
     "data": {
      "image/png": "[encoded data removed]",
      "text/plain": [
       "<Figure size 640x480 with 1 Axes>"
      ]
     },
     "metadata": {},
     "output_type": "display_data"
    }
   ],
   "source": [
    "crossTb_ht = pd.crosstab(visualization_df['effective_vaccine'], visualization_df['health_threat'])\n",
    "crossTb_ht.plot(kind=\"bar\", rot=0)"
   ]
  },
  {
   "cell_type": "markdown",
   "id": "34ec517a",
   "metadata": {},
   "source": [
    "<b>Finding: </b>Clearly, we have more data for the people who believe that the covid-19 is a dangerous threat also believe in the effectiveness of the vaccine. We have less data to support our opposite finding (where people who don't believe that the covid-19 is a dangerous threat also don't believe in the effectiveness of vaccine). Again, this feature will have larger impact in predicting the positive outcome."
   ]
  },
  {
   "cell_type": "markdown",
   "id": "81f74626",
   "metadata": {},
   "source": [
    "After visualizing the graphs on different problem statements, we will now create our <b>Effective Vaccine model</b> and perform <b>Logistic Regression</b> because this is a classification problem where the output (effective_vaccine) is either Yes(1) or No(0). The features that we are interested in are as below :-\n",
    "\n",
    "1. trust_on_science\n",
    "2. trust_on_government \n",
    "3. Profession\n",
    "4. safe_vaccine\n",
    "5. health_threat"
   ]
  },
  {
   "cell_type": "markdown",
   "id": "94130dab",
   "metadata": {},
   "source": [
    "# 5. Split Training and Test data sets"
   ]
  },
  {
   "cell_type": "markdown",
   "id": "094671a1",
   "metadata": {},
   "source": [
    "To ensure that the fitted model is generalizable to unseen data, we always train it with some data while evaluating the model and forecast the outcome with holdout/unseen data. As a result, we must divide our dataset into training and test datasets.\n",
    "\n",
    "To accomplish this, we will use the b>train_test_split/b> method with the following parameters:\n",
    "\n",
    "   1. test_size = 0.2 which means that we are keeping 20% of the dataset as the test dataset.\n",
    "   2. stratify=y; returns training and test subsets that have the same proportions of class labels as the input dataset.\n",
    "   \n",
    "To verify the specifications, we can print out the shapes for both the training and test sets."
   ]
  },
  {
   "cell_type": "code",
   "execution_count": 21,
   "id": "fbae1032",
   "metadata": {},
   "outputs": [
    {
     "name": "stdout",
     "output_type": "stream",
     "text": [
      "(12818830, 5)\n",
      "(3204708, 5)\n",
      "(12818830, 1)\n",
      "(3204708, 1)\n"
     ]
    }
   ],
   "source": [
    "from sklearn.model_selection import train_test_split\n",
    "\n",
    "X = pd.DataFrame(new_df[['trust_on_science', 'trust_on_government', \"Profession\", 'safe_vaccine', 'health_threat']])\n",
    "\n",
    "y = pd.DataFrame(new_df['effective_vaccine'])\n",
    "\n",
    "X_train, X_test, y_train, y_test = train_test_split(X, y, test_size=0.2, random_state=1, shuffle=True, stratify=y)\n",
    "\n",
    "print(X_train.shape)\n",
    "print(X_test.shape)\n",
    "print(y_train.shape)\n",
    "print(y_test.shape)"
   ]
  },
  {
   "cell_type": "markdown",
   "id": "24a21133",
   "metadata": {},
   "source": [
    "Let's check if the outcomes are actually balanced out across y_train and y_test"
   ]
  },
  {
   "cell_type": "code",
   "execution_count": 22,
   "id": "09935406",
   "metadata": {},
   "outputs": [
    {
     "name": "stdout",
     "output_type": "stream",
     "text": [
      "effective_vaccine\n",
      "1                    0.964856\n",
      "0                    0.035144\n",
      "dtype: float64\n",
      "effective_vaccine\n",
      "1                    0.964856\n",
      "0                    0.035144\n",
      "dtype: float64\n"
     ]
    }
   ],
   "source": [
    "print(y_train.value_counts(normalize=True))\n",
    "\n",
    "print(y_test.value_counts(normalize=True))"
   ]
  },
  {
   "cell_type": "markdown",
   "id": "6743f0e0",
   "metadata": {},
   "source": [
    "It looks balanced now, however, the supporting data for negative outcome is less which is why you see only 3.5% negative outcome (0.035144) could be distributed. This is because of our data set itself."
   ]
  },
  {
   "cell_type": "markdown",
   "id": "2b5c80c7",
   "metadata": {},
   "source": [
    "# 6. Modelling"
   ]
  },
  {
   "cell_type": "markdown",
   "id": "a4f65996",
   "metadata": {},
   "source": [
    "After splitting the data set into training and test, we will now create our Effective Vaccine model with the help of Logistic regression."
   ]
  },
  {
   "cell_type": "code",
   "execution_count": 23,
   "id": "f38b0af5",
   "metadata": {},
   "outputs": [],
   "source": [
    "from sklearn.linear_model import LogisticRegression\n",
    "\n",
    "# create model\n",
    "effective_vaccine_model = LogisticRegression(C=1, random_state=0)\n",
    "\n",
    "# Implementing our pipe\n",
    "effective_vaccine_model.fit(X_train, y_train['effective_vaccine'])\n",
    "    \n",
    "# Use the trained model to create predictions on train and test data\n",
    "y_train_pred = effective_vaccine_model.predict(X_train)\n",
    "y_test_pred = effective_vaccine_model.predict(X_test)"
   ]
  },
  {
   "cell_type": "markdown",
   "id": "c9a3e171",
   "metadata": {},
   "source": [
    "<b><u><font size=\"4\">Accuracy</font></u></b>"
   ]
  },
  {
   "cell_type": "markdown",
   "id": "5ce022bb",
   "metadata": {},
   "source": [
    "Let's now see how our model peform in train and test data.\n",
    "\n",
    "The code below creates two new daframes, one for train data and one for test data. Both datasets contain actual values as well as fitted values."
   ]
  },
  {
   "cell_type": "code",
   "execution_count": 24,
   "id": "493b2e35",
   "metadata": {},
   "outputs": [
    {
     "data": {
      "text/html": [
       "<div>\n",
       "<style scoped>\n",
       "    .dataframe tbody tr th:only-of-type {\n",
       "        vertical-align: middle;\n",
       "    }\n",
       "\n",
       "    .dataframe tbody tr th {\n",
       "        vertical-align: top;\n",
       "    }\n",
       "\n",
       "    .dataframe thead th {\n",
       "        text-align: right;\n",
       "    }\n",
       "</style>\n",
       "<table border=\"1\" class=\"dataframe\">\n",
       "  <thead>\n",
       "    <tr style=\"text-align: right;\">\n",
       "      <th></th>\n",
       "      <th>actual</th>\n",
       "      <th>fitted</th>\n",
       "    </tr>\n",
       "  </thead>\n",
       "  <tbody>\n",
       "    <tr>\n",
       "      <th>0</th>\n",
       "      <td>1</td>\n",
       "      <td>1</td>\n",
       "    </tr>\n",
       "    <tr>\n",
       "      <th>1</th>\n",
       "      <td>1</td>\n",
       "      <td>1</td>\n",
       "    </tr>\n",
       "    <tr>\n",
       "      <th>2</th>\n",
       "      <td>1</td>\n",
       "      <td>1</td>\n",
       "    </tr>\n",
       "    <tr>\n",
       "      <th>3</th>\n",
       "      <td>1</td>\n",
       "      <td>1</td>\n",
       "    </tr>\n",
       "    <tr>\n",
       "      <th>4</th>\n",
       "      <td>1</td>\n",
       "      <td>1</td>\n",
       "    </tr>\n",
       "  </tbody>\n",
       "</table>\n",
       "</div>"
      ],
      "text/plain": [
       "   actual  fitted\n",
       "0       1       1\n",
       "1       1       1\n",
       "2       1       1\n",
       "3       1       1\n",
       "4       1       1"
      ]
     },
     "execution_count": 24,
     "metadata": {},
     "output_type": "execute_result"
    }
   ],
   "source": [
    "train = pd.DataFrame({\"actual\": y_train['effective_vaccine'].values,\n",
    "                      \"fitted\": y_train_pred})\n",
    "train.head()"
   ]
  },
  {
   "cell_type": "code",
   "execution_count": 25,
   "id": "9bf7fc26",
   "metadata": {},
   "outputs": [
    {
     "data": {
      "text/html": [
       "<div>\n",
       "<style scoped>\n",
       "    .dataframe tbody tr th:only-of-type {\n",
       "        vertical-align: middle;\n",
       "    }\n",
       "\n",
       "    .dataframe tbody tr th {\n",
       "        vertical-align: top;\n",
       "    }\n",
       "\n",
       "    .dataframe thead th {\n",
       "        text-align: right;\n",
       "    }\n",
       "</style>\n",
       "<table border=\"1\" class=\"dataframe\">\n",
       "  <thead>\n",
       "    <tr style=\"text-align: right;\">\n",
       "      <th></th>\n",
       "      <th>actual</th>\n",
       "      <th>fitted</th>\n",
       "    </tr>\n",
       "  </thead>\n",
       "  <tbody>\n",
       "    <tr>\n",
       "      <th>0</th>\n",
       "      <td>1</td>\n",
       "      <td>1</td>\n",
       "    </tr>\n",
       "    <tr>\n",
       "      <th>1</th>\n",
       "      <td>1</td>\n",
       "      <td>1</td>\n",
       "    </tr>\n",
       "    <tr>\n",
       "      <th>2</th>\n",
       "      <td>1</td>\n",
       "      <td>1</td>\n",
       "    </tr>\n",
       "    <tr>\n",
       "      <th>3</th>\n",
       "      <td>1</td>\n",
       "      <td>1</td>\n",
       "    </tr>\n",
       "    <tr>\n",
       "      <th>4</th>\n",
       "      <td>1</td>\n",
       "      <td>1</td>\n",
       "    </tr>\n",
       "  </tbody>\n",
       "</table>\n",
       "</div>"
      ],
      "text/plain": [
       "   actual  fitted\n",
       "0       1       1\n",
       "1       1       1\n",
       "2       1       1\n",
       "3       1       1\n",
       "4       1       1"
      ]
     },
     "execution_count": 25,
     "metadata": {},
     "output_type": "execute_result"
    }
   ],
   "source": [
    "test = pd.DataFrame({\"actual\": y_test['effective_vaccine'].values,\n",
    "                     \"fitted\": y_test_pred})\n",
    "test.head()"
   ]
  },
  {
   "cell_type": "code",
   "execution_count": 26,
   "id": "199fc24a",
   "metadata": {},
   "outputs": [
    {
     "name": "stdout",
     "output_type": "stream",
     "text": [
      "Accuracy on train: 0.9749818821218473\n",
      "Accuracy on test: 0.9749465473921493\n"
     ]
    }
   ],
   "source": [
    "from sklearn.metrics import accuracy_score\n",
    "\n",
    "print(\"Accuracy on train:\", accuracy_score(train.actual, train.fitted))\n",
    "print(\"Accuracy on test:\", accuracy_score(test.actual, test.fitted))"
   ]
  },
  {
   "cell_type": "markdown",
   "id": "420bf1dc",
   "metadata": {},
   "source": [
    "The accuracy of our model is very high. Furthermore accuracy on train and test data are similar.\n",
    "\n",
    "This means that our model neither underfit nor overfit. It simply fits very well on unseen data. Hence, it does not need any tuning phase."
   ]
  },
  {
   "cell_type": "markdown",
   "id": "c67fd4c3",
   "metadata": {},
   "source": [
    "<b><u><font size=\"4\">Baseline</font></u></b>"
   ]
  },
  {
   "cell_type": "markdown",
   "id": "f562aad5",
   "metadata": {},
   "source": [
    "Let's see if 0.97 a good accuracy or not by training a dummy classifier on most frequent cases."
   ]
  },
  {
   "cell_type": "code",
   "execution_count": 27,
   "id": "a7568b41",
   "metadata": {},
   "outputs": [
    {
     "data": {
      "text/plain": [
       "0.9648557016559015"
      ]
     },
     "execution_count": 27,
     "metadata": {},
     "output_type": "execute_result"
    }
   ],
   "source": [
    "from sklearn.dummy import DummyClassifier\n",
    "\n",
    "dummy_clf = DummyClassifier(strategy=\"most_frequent\")\n",
    "dummy_clf.fit(X, y)\n",
    "DummyClassifier(strategy='most_frequent')\n",
    "dummy_clf.score(X, y)"
   ]
  },
  {
   "cell_type": "markdown",
   "id": "1bfaa169",
   "metadata": {},
   "source": [
    "Our original estimated accuracy is 0.9749, which is nearer to what we get from the dummy classifier (0.9648)."
   ]
  },
  {
   "cell_type": "markdown",
   "id": "1f598350",
   "metadata": {},
   "source": [
    "<b><u><font size=\"4\">Confusion Matrix</font></u></b>"
   ]
  },
  {
   "cell_type": "markdown",
   "id": "d6eb75c7",
   "metadata": {},
   "source": [
    "The code below displays the accuracy matrix on test data."
   ]
  },
  {
   "cell_type": "code",
   "execution_count": 28,
   "id": "b77e3054",
   "metadata": {},
   "outputs": [
    {
     "data": {
      "text/plain": [
       "<sklearn.metrics._plot.confusion_matrix.ConfusionMatrixDisplay at 0x7fc76003b9a0>"
      ]
     },
     "execution_count": 28,
     "metadata": {},
     "output_type": "execute_result"
    },
    {
     "data": {
      "image/png": "[encoded data removed]",
      "text/plain": [
       "<Figure size 640x480 with 2 Axes>"
      ]
     },
     "metadata": {},
     "output_type": "display_data"
    }
   ],
   "source": [
    "from sklearn.metrics import confusion_matrix, ConfusionMatrixDisplay\n",
    "\n",
    "#Ploting the confusion matrix\n",
    "cm = confusion_matrix(test.actual, test.fitted, labels=effective_vaccine_model.classes_)\n",
    "\n",
    "cm_display = ConfusionMatrixDisplay(confusion_matrix = cm, display_labels=effective_vaccine_model.classes_)\n",
    "\n",
    "cm_display.plot()\n"
   ]
  },
  {
   "cell_type": "markdown",
   "id": "7f9322a5",
   "metadata": {},
   "source": [
    "The majority of the elements are in the diagonal, implying that the majority of the predictions are right. However, there are 17624 Flase Negatives (which means these many values were predicted as 0 but actually they were 1) and 62665 False Positives (which means these many values were predicted as 1 but actually they were 0). We can still live with False Negatives because our model has a high accuracy in predicting positive outcomes (1) but False Positives are something to loot at."
   ]
  },
  {
   "cell_type": "code",
   "execution_count": 29,
   "id": "6552c15f",
   "metadata": {},
   "outputs": [
    {
     "name": "stdout",
     "output_type": "stream",
     "text": [
      "              precision    recall  f1-score   support\n",
      "\n",
      "           0       0.74      0.44      0.55    112627\n",
      "           1       0.98      0.99      0.99   3092081\n",
      "\n",
      "    accuracy                           0.97   3204708\n",
      "   macro avg       0.86      0.72      0.77   3204708\n",
      "weighted avg       0.97      0.97      0.97   3204708\n",
      "\n"
     ]
    }
   ],
   "source": [
    "from sklearn.metrics import classification_report\n",
    "\n",
    "# detailed classification report\n",
    "print(classification_report(test.actual, test.fitted))"
   ]
  },
  {
   "cell_type": "markdown",
   "id": "67186747",
   "metadata": {},
   "source": [
    "Clearly from the above results, the model has a great \"f1-score of 0.99\" while predicting positive outcome where as an average \"f1-score of 0.55\" while predicting negative outcome. The overall accuracy of the model is 97% but it is evident by now that the model has been able to predict the positive outcomes much better than the negative outcomes. We can do resampling here by using StratifiedKFold technique."
   ]
  },
  {
   "cell_type": "code",
   "execution_count": 30,
   "id": "1996fd14",
   "metadata": {},
   "outputs": [
    {
     "name": "stdout",
     "output_type": "stream",
     "text": [
      "Macro Average F1-score:  0.7708282089713513\n"
     ]
    }
   ],
   "source": [
    "from sklearn.model_selection import StratifiedKFold, cross_validate\n",
    "\n",
    "# create model\n",
    "model = LogisticRegression(C=1, random_state=0)\n",
    "\n",
    "cv = StratifiedKFold(n_splits=5, shuffle=True, random_state=42)\n",
    "\n",
    "scoring = 'f1_macro'\n",
    "\n",
    "scores = cross_validate(model, X, y.values.ravel(), scoring=scoring, cv=cv)\n",
    "\n",
    "print(\"Macro Average F1-score: \", np.mean(scores['test_score']))"
   ]
  },
  {
   "cell_type": "markdown",
   "id": "e7bd2615",
   "metadata": {},
   "source": [
    "Even with the resampling technique, we get the same result of F1-score. F1-score as 1 is the best score whereas 0 is the worst. Our F1-score lies towards 1, therefore, we can say that our model is performing better than an average model. Moreover, this data set is a survey results where having F1-score as 0.77 is a much better result. This is not a critical domain like healthcare or fraud detection system where we aim to achieve F1-score as 1. "
   ]
  },
  {
   "cell_type": "markdown",
   "id": "d57c9618",
   "metadata": {},
   "source": [
    "Let's also understand the correlation between the trained features."
   ]
  },
  {
   "cell_type": "code",
   "execution_count": 31,
   "id": "12b8c20e",
   "metadata": {},
   "outputs": [
    {
     "data": {
      "text/html": [
       "<div>\n",
       "<style scoped>\n",
       "    .dataframe tbody tr th:only-of-type {\n",
       "        vertical-align: middle;\n",
       "    }\n",
       "\n",
       "    .dataframe tbody tr th {\n",
       "        vertical-align: top;\n",
       "    }\n",
       "\n",
       "    .dataframe thead th {\n",
       "        text-align: right;\n",
       "    }\n",
       "</style>\n",
       "<table border=\"1\" class=\"dataframe\">\n",
       "  <thead>\n",
       "    <tr style=\"text-align: right;\">\n",
       "      <th></th>\n",
       "      <th>trust_on_science</th>\n",
       "      <th>trust_on_government</th>\n",
       "      <th>Profession</th>\n",
       "      <th>safe_vaccine</th>\n",
       "      <th>health_threat</th>\n",
       "    </tr>\n",
       "  </thead>\n",
       "  <tbody>\n",
       "    <tr>\n",
       "      <th>trust_on_science</th>\n",
       "      <td>1.000000</td>\n",
       "      <td>0.405382</td>\n",
       "      <td>0.037761</td>\n",
       "      <td>0.654872</td>\n",
       "      <td>0.366563</td>\n",
       "    </tr>\n",
       "    <tr>\n",
       "      <th>trust_on_government</th>\n",
       "      <td>0.405382</td>\n",
       "      <td>1.000000</td>\n",
       "      <td>0.058832</td>\n",
       "      <td>0.383250</td>\n",
       "      <td>0.200449</td>\n",
       "    </tr>\n",
       "    <tr>\n",
       "      <th>Profession</th>\n",
       "      <td>0.037761</td>\n",
       "      <td>0.058832</td>\n",
       "      <td>1.000000</td>\n",
       "      <td>0.043266</td>\n",
       "      <td>0.009388</td>\n",
       "    </tr>\n",
       "    <tr>\n",
       "      <th>safe_vaccine</th>\n",
       "      <td>0.654872</td>\n",
       "      <td>0.383250</td>\n",
       "      <td>0.043266</td>\n",
       "      <td>1.000000</td>\n",
       "      <td>0.375802</td>\n",
       "    </tr>\n",
       "    <tr>\n",
       "      <th>health_threat</th>\n",
       "      <td>0.366563</td>\n",
       "      <td>0.200449</td>\n",
       "      <td>0.009388</td>\n",
       "      <td>0.375802</td>\n",
       "      <td>1.000000</td>\n",
       "    </tr>\n",
       "  </tbody>\n",
       "</table>\n",
       "</div>"
      ],
      "text/plain": [
       "                     trust_on_science  trust_on_government  Profession  \\\n",
       "trust_on_science             1.000000             0.405382    0.037761   \n",
       "trust_on_government          0.405382             1.000000    0.058832   \n",
       "Profession                   0.037761             0.058832    1.000000   \n",
       "safe_vaccine                 0.654872             0.383250    0.043266   \n",
       "health_threat                0.366563             0.200449    0.009388   \n",
       "\n",
       "                     safe_vaccine  health_threat  \n",
       "trust_on_science         0.654872       0.366563  \n",
       "trust_on_government      0.383250       0.200449  \n",
       "Profession               0.043266       0.009388  \n",
       "safe_vaccine             1.000000       0.375802  \n",
       "health_threat            0.375802       1.000000  "
      ]
     },
     "execution_count": 31,
     "metadata": {},
     "output_type": "execute_result"
    }
   ],
   "source": [
    "X_train.corr()"
   ]
  },
  {
   "cell_type": "markdown",
   "id": "a480970e",
   "metadata": {},
   "source": [
    "Let's also plot the above results in Heat Map to understand this visually."
   ]
  },
  {
   "cell_type": "code",
   "execution_count": 32,
   "id": "5918976b",
   "metadata": {},
   "outputs": [
    {
     "data": {
      "text/plain": [
       "<AxesSubplot:>"
      ]
     },
     "execution_count": 32,
     "metadata": {},
     "output_type": "execute_result"
    },
    {
     "data": {
      "image/png": "[encoded data removed]",
      "text/plain": [
       "<Figure size 640x480 with 2 Axes>"
      ]
     },
     "metadata": {},
     "output_type": "display_data"
    }
   ],
   "source": [
    "# Generate a custom diverging colormap\n",
    "cmap = sns.diverging_palette(230, 20, as_cmap=True)\n",
    "\n",
    "sns.heatmap(X_train.corr()**2, cmap=cmap, center=0, square=True, linewidths=.5, annot = True)"
   ]
  },
  {
   "cell_type": "markdown",
   "id": "8059b7a8",
   "metadata": {},
   "source": [
    "Clearly, we don't have multi-collinearity. All the features that we took for the modelling are independent. This also depicts the picture of our Logistic Regression model that it is interpretable. Also, none of the feature that we took was unimportant. We can also confirm on this by evaluating feature scores."
   ]
  },
  {
   "cell_type": "code",
   "execution_count": 32,
   "id": "ddca824c",
   "metadata": {},
   "outputs": [
    {
     "data": {
      "text/plain": [
       "array([ 4.03112304,  4.50325981, 12.28591395,  4.45092988,  5.23672904])"
      ]
     },
     "execution_count": 32,
     "metadata": {},
     "output_type": "execute_result"
    }
   ],
   "source": [
    "# get feature importance\n",
    "effective_vaccine_model.coef_[0]"
   ]
  },
  {
   "cell_type": "markdown",
   "id": "b0243d27",
   "metadata": {},
   "source": [
    "Clearly, the feature scores have positive coefficients and are not zero or close to zero. Therefore, all the features that we took were important and we can not drop any of them."
   ]
  },
  {
   "cell_type": "markdown",
   "id": "bb766e0b",
   "metadata": {},
   "source": [
    "# 7. Summary"
   ]
  },
  {
   "cell_type": "markdown",
   "id": "24fba1db",
   "metadata": {},
   "source": [
    "1. We started by merging two data sets into one and then filtered the records from 1st of January, 2020 until 31st of December, 2021.\n",
    "2. We did feature selection and data cleaning.\n",
    "3. As part of data processing, we transformed the categorical features to numerical values by performing Target Encoding and also transformed the output variable to binary as we were dealing with the classification problem.\n",
    "4. With the help of multiple visualizations, we observed that we have more data to support positive outcomes.\n",
    "5. We also have seen the similar result in confusion matrix.\n",
    "6. To confirm whether we are not judging any feature incorrectly for the model prediction, we also saw each feature importance."
   ]
  },
  {
   "cell_type": "markdown",
   "id": "3131331f",
   "metadata": {},
   "source": [
    "# 8. Conclusion"
   ]
  },
  {
   "cell_type": "markdown",
   "id": "ab4b0f55",
   "metadata": {},
   "source": [
    "1. We have a strong conclusion on the people who mostly agrees on different parameters like trust on government, trust on science, vaccine is safe and covid-19 is a dangerous threat, also agrees that the vaccine is effective.\n",
    "\n",
    "2. These people are not hesitant towards the vaccine.\n",
    "\n",
    "3. We do have some supported data on the people who does not agree on above parameters and also does not agree that the vaccine is effective. Clearly, these are the people who are vaccine hesitant.\n",
    "\n",
    "4. If we could have more data to support negative outcomes as well, we would be in a strong position to confirm that above point is always true in all the possible scenarios.\n",
    "\n",
    "5. We didn't perform p-value testing to understand the correlation because it was very evident from the visualization itself. We also got the similar findings from the modelling.\n",
    "\n",
    "6. We have used a statistical data where the model score is not supposed to be 100% accurate or close to that. Getting F1-score of 0.55 on the negative outcome with such less supported data is also a good understanding on the people's sentiments.\n",
    "\n",
    "7. Usually, when we do sentiment analysis, we does not seek for 100% accuracy rather we seek for an understanding on in which way and how we should proceed."
   ]
  },
  {
   "cell_type": "markdown",
   "id": "3804e993",
   "metadata": {},
   "source": [
    "<b><font size=\"5\">Pros</font></b>"
   ]
  },
  {
   "cell_type": "markdown",
   "id": "ab38c4eb",
   "metadata": {},
   "source": [
    "1. We have a concrete result on the people's sentiment for the positive outcome. This will be a motivating factor for the government and stakeholders to boost up the vaccine production.\n",
    "\n",
    "2. We have a good overall F1-score of 0.77 which is again a good result when it comes to sentiment analysis."
   ]
  },
  {
   "cell_type": "markdown",
   "id": "af880f90",
   "metadata": {},
   "source": [
    "<b><font size=\"5\">Cons</font></b>"
   ]
  },
  {
   "cell_type": "markdown",
   "id": "b3561a15",
   "metadata": {},
   "source": [
    "1. As this is a public opinion, it is very hard to find the balanced data set.\n",
    "\n",
    "2. Imbalanced data set gives a picture on the model that it is bias when actually it is not.\n",
    "\n",
    "3. Even with the StratifieldKFold, we got the similar scores. We could have also done this with other models like Decision Trees or Ensembling that outperforms Logistic Regression on the imbalance data set. But we are not sure because we have done the resampling here which does the balancing on the data set."
   ]
  }
 ],
 "metadata": {
  "kernelspec": {
   "display_name": "Python 3 (ipykernel)",
   "language": "python",
   "name": "python3"
  },
  "language_info": {
   "codemirror_mode": {
    "name": "ipython",
    "version": 3
   },
   "file_extension": ".py",
   "mimetype": "text/x-python",
   "name": "python",
   "nbconvert_exporter": "python",
   "pygments_lexer": "ipython3",
   "version": "3.9.13"
  }
 },
 "nbformat": 4,
 "nbformat_minor": 5
}
